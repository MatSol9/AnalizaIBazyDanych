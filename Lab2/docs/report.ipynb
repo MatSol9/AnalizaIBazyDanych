{
 "cells": [
  {
   "cell_type": "markdown",
   "id": "2e142ab5",
   "metadata": {},
   "source": [
    "# Sprawozdanie\n",
    "## Laboratorium 2\n",
    "Przeprowadzono formatowanie danych odnośnie zachorowań na gruźlicę w danych latach w danych grupach wiekowych.\n",
    "Rozpoczęto od pobrania danych do klasy pandas.DataFrame z użyciem funkcji pandas.read_csv()"
   ]
  },
  {
   "cell_type": "code",
   "execution_count": 2,
   "id": "2b39bc94",
   "metadata": {},
   "outputs": [],
   "source": [
    "import pandas as pd\n",
    "df = pd.read_csv(\"../sourceData/tb.csv\")"
   ]
  },
  {
   "cell_type": "markdown",
   "id": "c4377111",
   "metadata": {},
   "source": [
    "Następnie dokonano przekształceń danych, zastąpiono wartości NaN wartością 0"
   ]
  },
  {
   "cell_type": "code",
   "execution_count": 3,
   "id": "abd82958",
   "metadata": {},
   "outputs": [],
   "source": [
    "df_nonans = df.fillna(0)"
   ]
  },
  {
   "cell_type": "markdown",
   "id": "7ee4f378",
   "metadata": {},
   "source": [
    "Potem dokonano przekształceń i sprawiono by poszczególny wiersz reprezentował pomiar dla pojedynczej grupy wiekowej danej płci. W przypadku pomiarów z kategorii bez podenaj płci/wieku wstawiono wartość '-'. Otrzymano następujący format (poniżej można zobaczyć pierwsze pięć wierszy)"
   ]
  },
  {
   "cell_type": "code",
   "execution_count": 6,
   "id": "f27c8b2a",
   "metadata": {},
   "outputs": [
    {
     "data": {
      "text/html": [
       "<div>\n",
       "<style scoped>\n",
       "    .dataframe tbody tr th:only-of-type {\n",
       "        vertical-align: middle;\n",
       "    }\n",
       "\n",
       "    .dataframe tbody tr th {\n",
       "        vertical-align: top;\n",
       "    }\n",
       "\n",
       "    .dataframe thead th {\n",
       "        text-align: right;\n",
       "    }\n",
       "</style>\n",
       "<table border=\"1\" class=\"dataframe\">\n",
       "  <thead>\n",
       "    <tr style=\"text-align: right;\">\n",
       "      <th></th>\n",
       "      <th>Unnamed: 0</th>\n",
       "      <th>iso2</th>\n",
       "      <th>year</th>\n",
       "      <th>cases</th>\n",
       "      <th>sex</th>\n",
       "      <th>age</th>\n",
       "    </tr>\n",
       "  </thead>\n",
       "  <tbody>\n",
       "    <tr>\n",
       "      <th>0</th>\n",
       "      <td>0</td>\n",
       "      <td>AD</td>\n",
       "      <td>1989</td>\n",
       "      <td>0.0</td>\n",
       "      <td>-</td>\n",
       "      <td>-</td>\n",
       "    </tr>\n",
       "    <tr>\n",
       "      <th>1</th>\n",
       "      <td>1</td>\n",
       "      <td>AD</td>\n",
       "      <td>1990</td>\n",
       "      <td>0.0</td>\n",
       "      <td>-</td>\n",
       "      <td>-</td>\n",
       "    </tr>\n",
       "    <tr>\n",
       "      <th>2</th>\n",
       "      <td>2</td>\n",
       "      <td>AD</td>\n",
       "      <td>1991</td>\n",
       "      <td>0.0</td>\n",
       "      <td>-</td>\n",
       "      <td>-</td>\n",
       "    </tr>\n",
       "    <tr>\n",
       "      <th>3</th>\n",
       "      <td>3</td>\n",
       "      <td>AD</td>\n",
       "      <td>1992</td>\n",
       "      <td>0.0</td>\n",
       "      <td>-</td>\n",
       "      <td>-</td>\n",
       "    </tr>\n",
       "    <tr>\n",
       "      <th>4</th>\n",
       "      <td>4</td>\n",
       "      <td>AD</td>\n",
       "      <td>1993</td>\n",
       "      <td>15.0</td>\n",
       "      <td>-</td>\n",
       "      <td>-</td>\n",
       "    </tr>\n",
       "  </tbody>\n",
       "</table>\n",
       "</div>"
      ],
      "text/plain": [
       "   Unnamed: 0 iso2  year  cases sex age\n",
       "0           0   AD  1989    0.0   -   -\n",
       "1           1   AD  1990    0.0   -   -\n",
       "2           2   AD  1991    0.0   -   -\n",
       "3           3   AD  1992    0.0   -   -\n",
       "4           4   AD  1993   15.0   -   -"
      ]
     },
     "execution_count": 6,
     "metadata": {},
     "output_type": "execute_result"
    }
   ],
   "source": [
    "df2 = pd.read_csv(\"../modifiedData/tidy.csv\")\n",
    "df2.head(5)"
   ]
  }
 ],
 "metadata": {
  "kernelspec": {
   "display_name": "Python 3 (ipykernel)",
   "language": "python",
   "name": "python3"
  },
  "language_info": {
   "codemirror_mode": {
    "name": "ipython",
    "version": 3
   },
   "file_extension": ".py",
   "mimetype": "text/x-python",
   "name": "python",
   "nbconvert_exporter": "python",
   "pygments_lexer": "ipython3",
   "version": "3.8.8"
  }
 },
 "nbformat": 4,
 "nbformat_minor": 5
}
